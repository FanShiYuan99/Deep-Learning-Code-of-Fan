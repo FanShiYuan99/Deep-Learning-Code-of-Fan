{
 "cells": [
  {
   "cell_type": "markdown",
   "metadata": {},
   "source": [
    "# 一维拉力梁"
   ]
  },
  {
   "cell_type": "code",
   "execution_count": null,
   "metadata": {},
   "outputs": [],
   "source": [
    "import numpy as np\n",
    "import pandas as pd\n",
    "import torch\n",
    "import torch.nn as nn\n",
    "from random import uniform\n",
    "import matplotlib.pyplot as plt\n",
    "from pyDOE import lhs\n",
    "%matplotlib inline\n",
    "class MLP(nn.Module):\n",
    "    def __init__(self):\n",
    "        super(MLP, self).__init__()\n",
    "        hidden_channle = 20\n",
    "        self.net = nn.Sequential(\n",
    "            nn.Linear(1, hidden_channle), nn.Tanh(),\n",
    "            nn.Linear(hidden_channle, hidden_channle), nn.Tanh(),\n",
    "            nn.Linear(hidden_channle, hidden_channle), nn.Tanh(),\n",
    "            nn.Linear(hidden_channle, hidden_channle), nn.Tanh(),\n",
    "            nn.Linear(hidden_channle, hidden_channle), nn.Tanh(),\n",
    "            nn.Linear(hidden_channle, 1)\n",
    "        )\n",
    "    def forward(self,x):\n",
    "        x=self.net(x)\n",
    "        return x"
   ]
  },
  {
   "cell_type": "code",
   "execution_count": null,
   "metadata": {},
   "outputs": [],
   "source": [
    "def u_function(y):\n",
    "    u = model(y)\n",
    "    return u\n",
    "\n",
    "def fi(e):\n",
    "    return (1 + e)**1.5 - 1.5 * e - 1\n",
    "\n",
    "def dfi_de(e):\n",
    "    return 1.5 * (1 + e)**0.5 - 1.5\n",
    "\n",
    "def f_function(x):\n",
    "    u = u_function(x)\n",
    "    u_x = torch.autograd.grad(u, x, torch.ones_like(u), retain_graph=True, create_graph=True)[0]\n",
    "    dfi = dfi_de(u_x)\n",
    "    dfi_dx = torch.autograd.grad(dfi, x, torch.ones_like(dfi), retain_graph=True, create_graph=True)[0]\n",
    "    f = dfi_dx + x\n",
    "    ut_loss = torch.mean(dfi[-1]**2)\n",
    "    return f, ut_loss\n",
    "    \n",
    "def Loss(x_f, t):\n",
    "    f_pre, ut_loss = f_function(x_f)\n",
    "    # loss\n",
    "    null =  torch.zeros((f_pre.shape[0], 1))\n",
    "    f_loss = loss_fn(f_pre, null)\n",
    "    \n",
    "    x_u = torch.tensor(np.array([-1]), dtype=torch.float32, requires_grad=True)\n",
    "    x_L = torch.tensor(np.array([L]), dtype=torch.float32, requires_grad=True)\n",
    "    \n",
    "    u_loss = torch.mean((u_function(x_u))**2)\n",
    "    ls = u_loss + f_loss + ut_loss\n",
    "    ls.backward()\n",
    "    return ls\n",
    "\n",
    "def Exact_u(x):\n",
    "    u = (68 + 105 * x - 40 * x**3 + 3 * x**5) / 135\n",
    "    return u"
   ]
  },
  {
   "cell_type": "code",
   "execution_count": null,
   "metadata": {},
   "outputs": [],
   "source": [
    "L = 1\n",
    "t = 0\n",
    "N_f = 5000\n",
    "X_f_train = np.linspace(-1, L, N_f)\n",
    "x_f = torch.tensor(X_f_train.reshape(-1, 1), dtype=torch.float32, requires_grad=True)\n",
    "\n",
    "model = MLP()\n",
    "loss_fn = nn.MSELoss()\n",
    "optimizer = torch.optim.Adam(model.parameters(), lr=0.01)\n",
    "scheduler = torch.optim.lr_scheduler.StepLR(optimizer, step_size=400, gamma=0.5)\n",
    "epochs = 2000\n",
    "Losses = []\n",
    "for epoch in range(epochs):\n",
    "    optimizer.zero_grad()\n",
    "    loss = Loss(x_f, t)\n",
    "    Losses.append(loss.item())\n",
    "    if epoch % 100 ==0:\n",
    "        print(f\"[Epoch {epoch+1}/{epochs}] [loss: {loss.item()}]\")\n",
    "    optimizer.step()\n",
    "    scheduler.step()\n",
    "plt.plot(Losses)\n",
    "plt.show()"
   ]
  },
  {
   "cell_type": "code",
   "execution_count": null,
   "metadata": {},
   "outputs": [],
   "source": [
    "x = torch.linspace(-1, L, 40).reshape(-1,1)\n",
    "Upre = u_function(x)\n",
    "xnp = x.detach().numpy()\n",
    "Unp = Upre.detach().numpy()\n",
    "Uex = Exact_u(xnp)\n",
    "plt.plot(x,Unp,label='U Pre')\n",
    "plt.scatter(x,Uex,label='U Exact',color='y')\n",
    "plt.legend()\n",
    "plt.show()"
   ]
  },
  {
   "cell_type": "code",
   "execution_count": null,
   "metadata": {},
   "outputs": [],
   "source": [
    "import numpy as np\n",
    "import matplotlib.pyplot as plt\n",
    "%matplotlib inline\n",
    "# 参数定义\n",
    "P = 1000  # 施加的力 (N)\n",
    "L = 2.0   # 悬臂梁长度 (m)\n",
    "E = 200e9 # 杨氏模量 (Pa)\n",
    "I = 1e-6  # 截面惯性矩 (m^4)\n",
    "\n",
    "# 计算变形\n",
    "x = np.linspace(0, L, 100)  # 从固定端到自由端的长度\n",
    "w = (P * L**3 / (3 * E * I)) * (1 - x/L)**2  # 变形公式\n",
    "\n",
    "# 计算变形梯度\n",
    "F = np.gradient(w, x)  # 计算变形梯度\n",
    "\n",
    "# 绘制变形和变形梯度\n",
    "plt.figure(figsize=(12, 6))\n",
    "\n",
    "# 变形图\n",
    "plt.subplot(1, 2, 1)\n",
    "plt.plot(x, w, label='Deflection w(x)')\n",
    "plt.title('Deflection of Cantilever Beam')\n",
    "plt.xlabel('Length along the beam (m)')\n",
    "plt.ylabel('Deflection (m)')\n",
    "plt.grid()\n",
    "plt.legend()\n",
    "\n",
    "# 变形梯度图\n",
    "plt.subplot(1, 2, 2)\n",
    "plt.plot(x, F, label='Strain F(x)', color='orange')\n",
    "plt.title('Strain of Cantilever Beam')\n",
    "plt.xlabel('Length along the beam (m)')\n",
    "plt.ylabel('Strain')\n",
    "plt.grid()\n",
    "plt.legend()\n",
    "\n",
    "plt.tight_layout()\n",
    "plt.show()\n"
   ]
  },
  {
   "cell_type": "markdown",
   "metadata": {},
   "source": [
    "# 二维弯曲梁"
   ]
  },
  {
   "cell_type": "code",
   "execution_count": 1,
   "metadata": {},
   "outputs": [],
   "source": [
    "import numpy as np\n",
    "import pandas as pd\n",
    "import torch\n",
    "import torch.nn as nn\n",
    "import matplotlib.pyplot as plt\n",
    "%matplotlib inline\n",
    "from mpl_toolkits.axes_grid1 import make_axes_locatable\n",
    "class MLP(torch.nn.Module):\n",
    "    def __init__(self, D_in=2, H=30, D_out=2):\n",
    "        super(MLP, self).__init__()\n",
    "        self.linear1 = torch.nn.Linear(D_in, H)\n",
    "        self.linear2 = torch.nn.Linear(H, H)\n",
    "        self.linear3 = torch.nn.Linear(H, H)\n",
    "        self.linear4 = torch.nn.Linear(H, D_out)\n",
    "\n",
    "        torch.nn.init.constant_(self.linear1.bias, 0.)\n",
    "        torch.nn.init.constant_(self.linear2.bias, 0.)\n",
    "        torch.nn.init.constant_(self.linear3.bias, 0.)\n",
    "        torch.nn.init.constant_(self.linear4.bias, 0.)\n",
    "\n",
    "        torch.nn.init.normal_(self.linear1.weight, mean=0, std=0.1)\n",
    "        torch.nn.init.normal_(self.linear2.weight, mean=0, std=0.1)\n",
    "        torch.nn.init.normal_(self.linear3.weight, mean=0, std=0.1)\n",
    "        torch.nn.init.normal_(self.linear4.weight, mean=0, std=0.1)\n",
    "\n",
    "    def forward(self, x):\n",
    "        y1 = torch.tanh(self.linear1(x))\n",
    "        y2 = torch.tanh(self.linear2(y1))\n",
    "        y3 = torch.tanh(self.linear3(y2))\n",
    "        y = self.linear4(y3)\n",
    "        u=y[:,0]\n",
    "        v=y[:,1]\n",
    "        return u.view(-1,1),v.view(-1,1)"
   ]
  },
  {
   "cell_type": "code",
   "execution_count": 2,
   "metadata": {},
   "outputs": [],
   "source": [
    "L = 4\n",
    "H = 1\n",
    "t = -5 # point load\n",
    "E = 1000 # Young modulus\n",
    "v = 0.3 # Poisson ratio\n",
    "Lam = (E * v) / ((1 + v) * (1 - 2 * v))\n",
    "Mu = E / (2 * (1 + v))\n",
    "\n",
    "def Fi(x, y):\n",
    "    u, v = u_function(x, y)\n",
    "    # 计算偏导数\n",
    "    dX_dx = torch.autograd.grad(u, x, torch.ones_like(u), retain_graph=True, create_graph=True)[0] + 1\n",
    "    dX_dy = torch.autograd.grad(u, y, torch.ones_like(u), retain_graph=True, create_graph=True)[0]\n",
    "    dY_dx = torch.autograd.grad(v, x, torch.ones_like(v), retain_graph=True, create_graph=True)[0]\n",
    "    dY_dy = torch.autograd.grad(v, y, torch.ones_like(v), retain_graph=True, create_graph=True)[0] + 1\n",
    "    \n",
    "    J = dX_dx*dY_dy-dX_dy*dY_dx\n",
    "    I = dX_dx**2+dY_dy**2+dX_dy**2+dY_dx**2\n",
    "    \n",
    "    fi = 0.5 * Lam * (torch.log(J) * torch.log(J)) - Mu * torch.log(J) + 0.5 * Mu * (I - 2)\n",
    "    return fi\n",
    "\n",
    "def u_function(x,y):\n",
    "    u, v = model(torch.hstack((x, y)))\n",
    "    u = x * u\n",
    "    v = x * v\n",
    "    return u, v\n",
    "\n",
    "def f_function(x, y, x_u, y_u):\n",
    "    Fi_Nb = Fi(x, y)\n",
    "    u_u, v_u = u_function(x_u, y_u)\n",
    "    value = t * (y_u + v_u)\n",
    "    f = L * H * torch.sum(Fi_Nb) / Fi_Nb.data.nelement()\n",
    "    g = H * torch.sum(value) / value.data.nelement()\n",
    "\n",
    "    return f - g, f, g\n",
    "    \n",
    "def Loss(x_f, y_f, x_u, y_u):\n",
    "    ls, f, g = f_function(x_f, y_f, x_u, y_u)\n",
    "\n",
    "    ls.backward()\n",
    "    return ls, f, g"
   ]
  },
  {
   "cell_type": "code",
   "execution_count": 3,
   "metadata": {},
   "outputs": [
    {
     "name": "stdout",
     "output_type": "stream",
     "text": [
      "[Epoch 1/2000] [loss: 24.385589599609375]\n",
      "[Epoch 301/2000] [loss: 0.0739436149597168]\n",
      "[Epoch 601/2000] [loss: -0.10210561752319336]\n",
      "[Epoch 901/2000] [loss: -0.1263275146484375]\n",
      "[Epoch 1201/2000] [loss: -0.13250350952148438]\n",
      "[Epoch 1501/2000] [loss: -0.1341993808746338]\n",
      "[Epoch 1801/2000] [loss: -0.13439440727233887]\n"
     ]
    },
    {
     "data": {
      "image/png": "[encoded data removed]",
      "text/plain": [
       "<Figure size 432x288 with 1 Axes>"
      ]
     },
     "metadata": {
      "needs_background": "light"
     },
     "output_type": "display_data"
    }
   ],
   "source": [
    "N1 = 200\n",
    "N2 = 50\n",
    "x = np.linspace(0,L,N1)\n",
    "y = np.linspace(0,H,N2)\n",
    "X, Y = np.meshgrid(x,y)\n",
    "\n",
    "x_f = torch.tensor(X.reshape(-1,1), dtype=torch.float32, requires_grad=True)\n",
    "y_f = torch.tensor(Y.reshape(-1,1), dtype=torch.float32, requires_grad=True)\n",
    "\n",
    "x_right = np.ones((N2,1)) * L\n",
    "y_right = np.linspace(0,H,N2).reshape(-1,1)\n",
    "\n",
    "X_u_train = np.hstack((x_right,y_right))\n",
    "\n",
    "x_u = torch.tensor(X_u_train[:,0].reshape(-1,1), dtype=torch.float32, requires_grad=True)\n",
    "y_u = torch.tensor(X_u_train[:,1].reshape(-1,1), dtype=torch.float32, requires_grad=True)\n",
    "\n",
    "model = MLP()\n",
    "loss_fn = nn.MSELoss()\n",
    "optimizer = torch.optim.Adam(model.parameters(), lr=0.01)\n",
    "scheduler = torch.optim.lr_scheduler.StepLR(optimizer, step_size=500, gamma=0.1)\n",
    "epochs = 2000\n",
    "Losses = []\n",
    "F = []\n",
    "G = []\n",
    "for epoch in range(epochs):\n",
    "    optimizer.zero_grad()\n",
    "    loss, f, g = Loss(x_f, y_f, x_u, y_u)\n",
    "    Losses.append(loss.item())\n",
    "    F.append(f.item())\n",
    "    G.append(g.item())\n",
    "    if epoch % 300 ==0:\n",
    "        print(f\"[Epoch {epoch+1}/{epochs}] [loss: {loss.item()}]\")\n",
    "    optimizer.step()\n",
    "    scheduler.step()\n",
    "\n",
    "plt.plot(Losses)\n",
    "plt.show()"
   ]
  },
  {
   "cell_type": "code",
   "execution_count": 4,
   "metadata": {},
   "outputs": [
    {
     "name": "stderr",
     "output_type": "stream",
     "text": [
      "E:\\anaconda3\\lib\\site-packages\\torch\\functional.py:504: UserWarning: torch.meshgrid: in an upcoming release, it will be required to pass the indexing argument. (Triggered internally at C:\\actions-runner\\_work\\pytorch\\pytorch\\builder\\windows\\pytorch\\aten\\src\\ATen\\native\\TensorShape.cpp:3191.)\n",
      "  return _VF.meshgrid(tensors, **kwargs)  # type: ignore[attr-defined]\n"
     ]
    },
    {
     "data": {
      "image/png": "[encoded data removed]",
      "text/plain": [
       "<Figure size 648x288 with 1 Axes>"
      ]
     },
     "metadata": {
      "needs_background": "light"
     },
     "output_type": "display_data"
    }
   ],
   "source": [
    "N1 = 40\n",
    "N2 = 10\n",
    "x = torch.linspace(0,L,N1)\n",
    "y = torch.linspace(0,H,N2)\n",
    "X, Y = torch.meshgrid(x,y)\n",
    "X = X.reshape(-1,1)\n",
    "Y = Y.reshape(-1,1)\n",
    "plt.figure(figsize=(9,4))\n",
    "u, v = u_function(X,Y)\n",
    "xx = X + u\n",
    "yy = Y + v\n",
    "xnp = xx.detach().numpy()\n",
    "ynp = yy.detach().numpy()\n",
    "plt.scatter(xnp,ynp)\n",
    "plt.show()"
   ]
  },
  {
   "cell_type": "code",
   "execution_count": 9,
   "metadata": {},
   "outputs": [
    {
     "ename": "ValueError",
     "evalue": "'norm' must be an instance of 'mcolors.Normalize'",
     "output_type": "error",
     "traceback": [
      "\u001b[1;31m---------------------------------------------------------------------------\u001b[0m",
      "\u001b[1;31mValueError\u001b[0m                                Traceback (most recent call last)",
      "\u001b[1;32m<ipython-input-9-681707a1d451>\u001b[0m in \u001b[0;36m<module>\u001b[1;34m()\u001b[0m\n\u001b[0;32m      5\u001b[0m \u001b[0max\u001b[0m \u001b[1;33m=\u001b[0m \u001b[0mfig\u001b[0m\u001b[1;33m.\u001b[0m\u001b[0madd_subplot\u001b[0m\u001b[1;33m(\u001b[0m\u001b[1;36m111\u001b[0m\u001b[1;33m)\u001b[0m\u001b[1;33m\u001b[0m\u001b[0m\n\u001b[0;32m      6\u001b[0m \u001b[1;33m\u001b[0m\u001b[0m\n\u001b[1;32m----> 7\u001b[1;33m \u001b[0mh\u001b[0m \u001b[1;33m=\u001b[0m \u001b[0max\u001b[0m\u001b[1;33m.\u001b[0m\u001b[0mimshow\u001b[0m\u001b[1;33m(\u001b[0m\u001b[0mxnp\u001b[0m\u001b[1;33m,\u001b[0m\u001b[0mynp\u001b[0m\u001b[1;33m,\u001b[0m\u001b[0mUnp\u001b[0m\u001b[1;33m)\u001b[0m\u001b[1;33m\u001b[0m\u001b[0m\n\u001b[0m\u001b[0;32m      8\u001b[0m \u001b[0mdivider\u001b[0m \u001b[1;33m=\u001b[0m \u001b[0mmake_axes_locatable\u001b[0m\u001b[1;33m(\u001b[0m\u001b[0max\u001b[0m\u001b[1;33m)\u001b[0m \u001b[1;31m# 新建一个坐标轴，右侧\u001b[0m\u001b[1;33m\u001b[0m\u001b[0m\n\u001b[0;32m      9\u001b[0m \u001b[0mcax\u001b[0m \u001b[1;33m=\u001b[0m \u001b[0mdivider\u001b[0m\u001b[1;33m.\u001b[0m\u001b[0mappend_axes\u001b[0m\u001b[1;33m(\u001b[0m\u001b[1;34m\"right\"\u001b[0m\u001b[1;33m,\u001b[0m \u001b[0msize\u001b[0m\u001b[1;33m=\u001b[0m\u001b[1;34m\"5%\"\u001b[0m\u001b[1;33m,\u001b[0m \u001b[0mpad\u001b[0m\u001b[1;33m=\u001b[0m\u001b[1;36m0.10\u001b[0m\u001b[1;33m)\u001b[0m\u001b[1;33m\u001b[0m\u001b[0m\n",
      "\u001b[1;32mE:\\anaconda3\\lib\\site-packages\\matplotlib\\__init__.py\u001b[0m in \u001b[0;36minner\u001b[1;34m(ax, *args, **kwargs)\u001b[0m\n\u001b[0;32m   1865\u001b[0m                         \u001b[1;34m\"the Matplotlib list!)\"\u001b[0m \u001b[1;33m%\u001b[0m \u001b[1;33m(\u001b[0m\u001b[0mlabel_namer\u001b[0m\u001b[1;33m,\u001b[0m \u001b[0mfunc\u001b[0m\u001b[1;33m.\u001b[0m\u001b[0m__name__\u001b[0m\u001b[1;33m)\u001b[0m\u001b[1;33m,\u001b[0m\u001b[1;33m\u001b[0m\u001b[0m\n\u001b[0;32m   1866\u001b[0m                         RuntimeWarning, stacklevel=2)\n\u001b[1;32m-> 1867\u001b[1;33m             \u001b[1;32mreturn\u001b[0m \u001b[0mfunc\u001b[0m\u001b[1;33m(\u001b[0m\u001b[0max\u001b[0m\u001b[1;33m,\u001b[0m \u001b[1;33m*\u001b[0m\u001b[0margs\u001b[0m\u001b[1;33m,\u001b[0m \u001b[1;33m**\u001b[0m\u001b[0mkwargs\u001b[0m\u001b[1;33m)\u001b[0m\u001b[1;33m\u001b[0m\u001b[0m\n\u001b[0m\u001b[0;32m   1868\u001b[0m \u001b[1;33m\u001b[0m\u001b[0m\n\u001b[0;32m   1869\u001b[0m         inner.__doc__ = _add_data_doc(inner.__doc__,\n",
      "\u001b[1;32mE:\\anaconda3\\lib\\site-packages\\matplotlib\\axes\\_axes.py\u001b[0m in \u001b[0;36mimshow\u001b[1;34m(self, X, cmap, norm, aspect, interpolation, alpha, vmin, vmax, origin, extent, shape, filternorm, filterrad, imlim, resample, url, **kwargs)\u001b[0m\n\u001b[0;32m   5491\u001b[0m         \u001b[1;32mif\u001b[0m \u001b[0mnorm\u001b[0m \u001b[1;32mis\u001b[0m \u001b[1;32mnot\u001b[0m \u001b[1;32mNone\u001b[0m \u001b[1;32mand\u001b[0m \u001b[1;32mnot\u001b[0m \u001b[0misinstance\u001b[0m\u001b[1;33m(\u001b[0m\u001b[0mnorm\u001b[0m\u001b[1;33m,\u001b[0m \u001b[0mmcolors\u001b[0m\u001b[1;33m.\u001b[0m\u001b[0mNormalize\u001b[0m\u001b[1;33m)\u001b[0m\u001b[1;33m:\u001b[0m\u001b[1;33m\u001b[0m\u001b[0m\n\u001b[0;32m   5492\u001b[0m             raise ValueError(\n\u001b[1;32m-> 5493\u001b[1;33m                 \"'norm' must be an instance of 'mcolors.Normalize'\")\n\u001b[0m\u001b[0;32m   5494\u001b[0m         \u001b[1;32mif\u001b[0m \u001b[0maspect\u001b[0m \u001b[1;32mis\u001b[0m \u001b[1;32mNone\u001b[0m\u001b[1;33m:\u001b[0m\u001b[1;33m\u001b[0m\u001b[0m\n\u001b[0;32m   5495\u001b[0m             \u001b[0maspect\u001b[0m \u001b[1;33m=\u001b[0m \u001b[0mrcParams\u001b[0m\u001b[1;33m[\u001b[0m\u001b[1;34m'image.aspect'\u001b[0m\u001b[1;33m]\u001b[0m\u001b[1;33m\u001b[0m\u001b[0m\n",
      "\u001b[1;31mValueError\u001b[0m: 'norm' must be an instance of 'mcolors.Normalize'"
     ]
    },
    {
     "data": {
      "image/png": "[encoded data removed]",
      "text/plain": [
       "<Figure size 648x324 with 1 Axes>"
      ]
     },
     "metadata": {
      "needs_background": "light"
     },
     "output_type": "display_data"
    }
   ],
   "source": [
    "xnp = xnp.reshape(N1,N2).T\n",
    "ynp = ynp.reshape(N1,N2).T\n",
    "Unp = v.detach().numpy().reshape(N1,N2).T\n",
    "fig = plt.figure(figsize=(9, 4.5))\n",
    "ax = fig.add_subplot(111)\n",
    "\n",
    "h = ax.imshow(Unp,\n",
    "              interpolation='nearest',\n",
    "              cmap='rainbow', \n",
    "              extent=[ynp.min(), ynp.max(), xnp.min(), xnp.max()], \n",
    "              origin='lower', aspect='auto')\n",
    "divider = make_axes_locatable(ax) # 新建一个坐标轴，右侧\n",
    "cax = divider.append_axes(\"right\", size=\"5%\", pad=0.10)\n",
    "cbar = fig.colorbar(h, cax=cax)\n",
    "cbar.ax.tick_params(labelsize=10)\n",
    "plt.show()"
   ]
  },
  {
   "cell_type": "code",
   "execution_count": null,
   "metadata": {},
   "outputs": [],
   "source": [
    "plt.plot(F)\n",
    "plt.show()\n",
    "plt.plot(G)\n",
    "plt.show()"
   ]
  },
  {
   "cell_type": "markdown",
   "metadata": {},
   "source": [
    "# 三维弯曲梁"
   ]
  },
  {
   "cell_type": "code",
   "execution_count": null,
   "metadata": {},
   "outputs": [],
   "source": [
    "import numpy as np\n",
    "import pandas as pd\n",
    "import torch\n",
    "import torch.nn as nn\n",
    "import matplotlib.pyplot as plt\n",
    "%matplotlib inline\n",
    "from mpl_toolkits.axes_grid1 import make_axes_locatable\n",
    "class MLP(torch.nn.Module):\n",
    "    def __init__(self, D_in=3, H=30, D_out=3):\n",
    "        super(MLP, self).__init__()\n",
    "        self.linear1 = torch.nn.Linear(D_in, H)\n",
    "        self.linear2 = torch.nn.Linear(H, H)\n",
    "        self.linear3 = torch.nn.Linear(H, H)\n",
    "        self.linear4 = torch.nn.Linear(H, D_out)\n",
    "\n",
    "        torch.nn.init.constant_(self.linear1.bias, 0.)\n",
    "        torch.nn.init.constant_(self.linear2.bias, 0.)\n",
    "        torch.nn.init.constant_(self.linear3.bias, 0.)\n",
    "        torch.nn.init.constant_(self.linear4.bias, 0.)\n",
    "\n",
    "        torch.nn.init.normal_(self.linear1.weight, mean=0, std=0.1)\n",
    "        torch.nn.init.normal_(self.linear2.weight, mean=0, std=0.1)\n",
    "        torch.nn.init.normal_(self.linear3.weight, mean=0, std=0.1)\n",
    "        torch.nn.init.normal_(self.linear4.weight, mean=0, std=0.1)\n",
    "\n",
    "    def forward(self, x):\n",
    "        y1 = torch.tanh(self.linear1(x))\n",
    "        y2 = torch.tanh(self.linear2(y1))\n",
    "        y3 = torch.tanh(self.linear3(y2))\n",
    "        out = self.linear4(y3)\n",
    "        u=out[:,0]\n",
    "        v=out[:,1]\n",
    "        z=out[:,2]\n",
    "        return u.view(-1,1),v.view(-1,1),z.view(-1,1)"
   ]
  },
  {
   "cell_type": "code",
   "execution_count": null,
   "metadata": {},
   "outputs": [],
   "source": [
    "L = 4\n",
    "H = 1\n",
    "D = 1\n",
    "t = -5 # point load\n",
    "E = 1000 # Young modulus\n",
    "v = 0.3 # Poisson ratio\n",
    "Lam = (E * v) / ((1 + v) * (1 - 2 * v))\n",
    "Mu = E / (2 * (1 + v))\n",
    "\n",
    "def Fi(x, y, z):\n",
    "    u, v, w = u_function(x, y, z)\n",
    "    # 计算偏导数\n",
    "    dX_dx = torch.autograd.grad(u, x, torch.ones_like(u), retain_graph=True, create_graph=True)[0] + 1\n",
    "    dX_dy = torch.autograd.grad(u, y, torch.ones_like(u), retain_graph=True, create_graph=True)[0]\n",
    "    dX_dz = torch.autograd.grad(u, z, torch.ones_like(u), retain_graph=True, create_graph=True)[0]\n",
    "    dY_dx = torch.autograd.grad(v, x, torch.ones_like(v), retain_graph=True, create_graph=True)[0]\n",
    "    dY_dy = torch.autograd.grad(v, y, torch.ones_like(v), retain_graph=True, create_graph=True)[0] + 1\n",
    "    dY_dz = torch.autograd.grad(v, z, torch.ones_like(v), retain_graph=True, create_graph=True)[0]\n",
    "    \n",
    "    J = dX_dx*dY_dy-dX_dy*dY_dx\n",
    "    I = dX_dx**2+dY_dy**2+dX_dy**2+dY_dx**2\n",
    "    \n",
    "    fi = 0.5 * Lam * (torch.log(J) * torch.log(J)) - Mu * torch.log(J) + 0.5 * Mu * (I - 2)\n",
    "    return fi\n",
    "\n",
    "def u_function(x,y):\n",
    "    u, v = model(torch.hstack((x, y)))\n",
    "    u = x * u\n",
    "    v = x * v\n",
    "    return u, v\n",
    "\n",
    "def f_function(x, y, x_u, y_u):\n",
    "    Fi_Nb = Fi(x, y)\n",
    "    u_u, v_u = u_function(x_u, y_u)\n",
    "    value = t * (y_u + v_u)\n",
    "    f = L * H * torch.sum(Fi_Nb) / Fi_Nb.data.nelement()\n",
    "    g = H * torch.sum(value) / value.data.nelement()\n",
    "\n",
    "    return f - g, f, g\n",
    "    \n",
    "def Loss(x_f, y_f, x_u, y_u):\n",
    "    ls, f, g = f_function(x_f, y_f, x_u, y_u)\n",
    "\n",
    "    ls.backward()\n",
    "    return ls, f, g"
   ]
  },
  {
   "cell_type": "code",
   "execution_count": null,
   "metadata": {},
   "outputs": [],
   "source": []
  },
  {
   "cell_type": "code",
   "execution_count": null,
   "metadata": {},
   "outputs": [],
   "source": []
  },
  {
   "cell_type": "code",
   "execution_count": null,
   "metadata": {},
   "outputs": [],
   "source": []
  },
  {
   "cell_type": "code",
   "execution_count": null,
   "metadata": {},
   "outputs": [],
   "source": []
  }
 ],
 "metadata": {
  "kernelspec": {
   "display_name": "Python 3",
   "language": "python",
   "name": "python3"
  },
  "language_info": {
   "codemirror_mode": {
    "name": "ipython",
    "version": 3
   },
   "file_extension": ".py",
   "mimetype": "text/x-python",
   "name": "python",
   "nbconvert_exporter": "python",
   "pygments_lexer": "ipython3",
   "version": "3.7.0"
  }
 },
 "nbformat": 4,
 "nbformat_minor": 2
}
