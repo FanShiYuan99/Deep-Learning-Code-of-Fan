{
 "cells": [
  {
   "cell_type": "code",
   "execution_count": 1,
   "metadata": {
    "scrolled": true
   },
   "outputs": [
    {
     "name": "stdout",
     "output_type": "stream",
     "text": [
      "version of torch: 1.13.1+cpu, torch cuda is available: False\n",
      "开始预测\n",
      "预测完毕\n"
     ]
    },
    {
     "data": {
      "image/png": "[encoded data removed]",
      "text/plain": [
       "<Figure size 388.543x216.119 with 5 Axes>"
      ]
     },
     "metadata": {
      "needs_background": "light"
     },
     "output_type": "display_data"
    }
   ],
   "source": [
    "import numpy as np\n",
    "import torch\n",
    "from torch import nn\n",
    "from torch.optim.lr_scheduler import ReduceLROnPlateau\n",
    "import scipy.io\n",
    "from time import time\n",
    "import os\n",
    "from scipy.interpolate import griddata\n",
    "from pyDOE import lhs\n",
    "from matplotlib import gridspec\n",
    "import matplotlib.pyplot as plt\n",
    "from mpl_toolkits.axes_grid1 import make_axes_locatable\n",
    "from tqdm import tqdm\n",
    "%matplotlib inline\n",
    "print(f\"version of torch: {torch.__version__}, torch cuda is available: {torch.cuda.is_available()}\")\n",
    "# 随机种子\n",
    "np.random.seed(1234)\n",
    "\n",
    "device = 'cuda' if torch.cuda.is_available() else 'cpu'\n",
    "\n",
    "# 定义 PINN 类: 网络结构\n",
    "class PINN(nn.Module):\n",
    "    def __init__(self, layers):\n",
    "        super().__init__()\n",
    "        # 定义网络\n",
    "        self.net = nn.Sequential(\n",
    "            nn.Linear(layers[0], layers[1]),\n",
    "            nn.Tanh(),\n",
    "            nn.Linear(layers[1], layers[2]),\n",
    "            nn.Tanh(),\n",
    "            nn.Linear(layers[2], layers[3]),\n",
    "            nn.Tanh(),\n",
    "            nn.Linear(layers[3], layers[4]),\n",
    "            nn.Tanh(),\n",
    "            nn.Linear(layers[4], layers[5]),\n",
    "        )\n",
    "        # 初始化偏置\n",
    "        self.init_bias()\n",
    "\n",
    "    # 初始化偏置\n",
    "    def init_bias(self):\n",
    "        for layer in self.net.children():\n",
    "            if isinstance(layer, nn.Linear):\n",
    "                # 权重采用Xavier正态初始化\n",
    "                nn.init.xavier_normal_(layer.weight, gain=5 / 3)  # gain 根据激活函数选择, torch.nn.init.calculate_gain()查看\n",
    "                # 偏置置0\n",
    "                nn.init.constant_(layer.bias, 0.)\n",
    "\n",
    "    # 前向传播\n",
    "    def forward(self, x, t):\n",
    "        xt = torch.cat((x, t), dim=1)\n",
    "        xt = self.net(xt)\n",
    "\n",
    "        u = xt[:, 0].unsqueeze(-1)\n",
    "        v = xt[:, 1].unsqueeze(-1)\n",
    "        return u, v\n",
    "\n",
    "\n",
    "class PINNSolver:\n",
    "    def __init__(self, model, x0, u0, v0, tb, X_f, lb, ub):\n",
    "        self.lb = torch.from_numpy(lb.astype(np.float32)).to(device)\n",
    "        self.ub = torch.from_numpy(ub.astype(np.float32)).to(device)\n",
    "        self.u0 = torch.from_numpy(u0.astype(np.float32)).to(device)\n",
    "        self.v0 = torch.from_numpy(v0.astype(np.float32)).to(device)\n",
    "\n",
    "        # 左边界\n",
    "        X0 = np.concatenate((x0, 0 * x0), 1)  # (x0, 0)\n",
    "        self.x0 = torch.from_numpy(X0[:, 0:1].astype(np.float32)).to(device)\n",
    "        self.t0 = torch.from_numpy(X0[:, 1:2].astype(np.float32)).to(device)\n",
    "\n",
    "        #\n",
    "        X_lb = np.concatenate((0 * tb + lb[0], tb), 1)  # (lb[0], tb)\n",
    "        X_ub = np.concatenate((0 * tb + ub[0], tb), 1)  # (ub[0], tb)\n",
    "        self.x_lb = torch.from_numpy(X_lb[:, 0:1].astype(np.float32)).to(device)\n",
    "        self.t_lb = torch.from_numpy(X_lb[:, 1:2].astype(np.float32)).to(device)\n",
    "        self.x_ub = torch.from_numpy(X_ub[:, 0:1].astype(np.float32)).to(device)\n",
    "        self.t_ub = torch.from_numpy(X_ub[:, 1:2].astype(np.float32)).to(device)\n",
    "\n",
    "        self.x_f = torch.from_numpy(X_f[:, 0:1].astype(np.float32)).to(device)\n",
    "        self.t_f = torch.from_numpy(X_f[:, 1:2].astype(np.float32)).to(device)\n",
    "\n",
    "        self.model = model\n",
    "\n",
    "    # 前向传播并获取梯度信息\n",
    "    def get_grad(self, model, x, t, fist_gras=False, second_grad=False):\n",
    "        # 前向传播\n",
    "        x.requires_grad, t.requires_grad = True, True\n",
    "        u, v = model(x, t)\n",
    "\n",
    "        if not (fist_gras or second_grad):\n",
    "            return u, v\n",
    "\n",
    "        if fist_gras:\n",
    "            # 计算一阶导数\n",
    "            u_x = torch.autograd.grad(u, x, grad_outputs=torch.ones_like(u), create_graph=True)[0]\n",
    "            v_x = torch.autograd.grad(v, x, grad_outputs=torch.ones_like(v), create_graph=True)[0]\n",
    "            u_t = torch.autograd.grad(u, t, grad_outputs=torch.ones_like(u), create_graph=True)[0]\n",
    "            v_t = torch.autograd.grad(v, t, grad_outputs=torch.ones_like(v), create_graph=True)[0]\n",
    "            if second_grad:\n",
    "                # 计算二阶导数\n",
    "                u_xx = torch.autograd.grad(u_x, x, grad_outputs=torch.ones_like(u_x), create_graph=True)[0]\n",
    "                v_xx = torch.autograd.grad(v_x, x, grad_outputs=torch.ones_like(v_x), create_graph=True)[0]\n",
    "                return u, v, u_x, v_x, u_t, v_t, u_xx, v_xx\n",
    "            return u, v, u_x, v_x, u_t, v_t\n",
    "\n",
    "    # 损失函数定义\n",
    "    def loss_fn(self, model):\n",
    "        # 计算预测值和梯度\n",
    "        u0_pred, v0_pred = self.get_grad(model, self.x0, self.t0,\n",
    "                                         fist_gras=False, second_grad=False)\n",
    "        u_lb_pred, v_lb_pred, u_lb_x, v_lb_x, _, _ = self.get_grad(model, self.x_lb, self.t_lb,\n",
    "                                                                   fist_gras=True, second_grad=False)\n",
    "        u_ub_pred, v_ub_pred, u_ub_x, v_ub_x, _, _ = self.get_grad(model, self.x_ub, self.t_ub,\n",
    "                                                                   fist_gras=True, second_grad=False)\n",
    "        u_f_pred, v_f_pred, _, _, u_f_t, v_f_t, u_f_xx, v_f_xx = self.get_grad(model, self.x_f, self.t_f,\n",
    "                                                                               fist_gras=True, second_grad=True)\n",
    "        # 损失函数\n",
    "        l1 = torch.mean(torch.square(u0_pred - self.u0))\n",
    "        l2 = torch.mean(torch.square(v0_pred - self.v0))\n",
    "        l3 = torch.mean(torch.square(u_lb_pred - u_ub_pred))\n",
    "        l4 = torch.mean(torch.square(v_lb_pred - v_ub_pred))\n",
    "        l5 = torch.mean(torch.square(u_lb_x - u_ub_x))\n",
    "        l6 = torch.mean(torch.square(v_lb_x - v_ub_x))\n",
    "        l7 = torch.mean(torch.square(u_f_t+0.5*v_f_xx+(torch.square(u_f_pred)+torch.square(v_f_pred))*v_f_pred))\n",
    "        l8 = torch.mean(torch.square((-1)*v_f_t+0.5*u_f_xx+(torch.square(u_f_pred)+torch.square(v_f_pred))*u_f_pred))\n",
    "\n",
    "        loss = l1 + l2 + l3 + l4 + l5 + l6 + l7 + l8\n",
    "\n",
    "        return loss\n",
    "\n",
    "    # 训练\n",
    "    def train(self, nIter, file_path):\n",
    "        # 优化器\n",
    "        optim = torch.optim.Adam(self.model.parameters(), lr=1e-3)\n",
    "        # 学习率衰减\n",
    "        scheduler = ReduceLROnPlateau(optim, factor=0.1, patience=100, verbose=True)\n",
    "        # 开始训练时间\n",
    "        t0 = time()\n",
    "        # 开始训练\n",
    "        for epoch in tqdm(range(nIter)):\n",
    "            loss = self.loss_fn(self.model)\n",
    "            # 清零梯度\n",
    "            optim.zero_grad()\n",
    "            # 反向传播\n",
    "            loss.backward()\n",
    "            # 更新参数\n",
    "            optim.step()\n",
    "            # 更新学习率\n",
    "            scheduler.step(loss)\n",
    "\n",
    "            # print(f\"Iteration={epoch+1}, loss={loss.cpu().detach().numpy()}\")\n",
    "            if epoch % 100 == 0:\n",
    "                tqdm.write(f\"Iteration={epoch:04d}, loss={loss.cpu().detach().numpy():.5f}\")\n",
    "            if epoch % 500 == 0:\n",
    "                torch.save(model.state_dict(), file_path)\n",
    "        # 训练时间\n",
    "        print(f\"TrainTime: {time()-t0:0.4f} seconds\")\n",
    "\n",
    "\n",
    "    # 预测\n",
    "    def predict(self, X_start, u_start, v_start, h_start):\n",
    "        print(\"开始预测\")\n",
    "        x_start = torch.from_numpy(X_start[:, 0].astype(np.float32)).reshape(-1, 1).to(device)\n",
    "        t_start = torch.from_numpy(X_start[:, 1].astype(np.float32)).reshape(-1, 1).to(device)\n",
    "        u, v, u_x, v_x, u_t, v_t, u_xx, v_xx = self.get_grad(self.model, x_start, t_start, fist_gras=True, second_grad=True)\n",
    "        h = torch.sqrt(u ** 2 + v ** 2)\n",
    "        f_u_star = torch.square(u_t+0.5*v_xx+(torch.square(u)+torch.square(v))*v)\n",
    "        f_v_star = torch.square((-1)*v_t+0.5*u_xx+(torch.square(u)+torch.square(v))*u)\n",
    "\n",
    "        # 误差(二范数)\n",
    "        # print(\"计算误差\")\n",
    "        # error_u = np.linalg.norm(u_start - u.cpu().detach().numpy(), 2) / np.linalg.norm(u_start, 2)\n",
    "        # error_v = np.linalg.norm(v_start - v.cpu().detach().numpy(), 2) / np.linalg.norm(v_start, 2)\n",
    "        # error_h = np.linalg.norm(h_start - h.cpu().detach().numpy(), 2) / np.linalg.norm(h_start, 2)\n",
    "        # print(f'Error u: {error_u}')\n",
    "        # print(f'Error v: {error_v}')\n",
    "        # print(f'Error h: {error_h}')\n",
    "        print(\"预测完毕\")\n",
    "\n",
    "        return u, v, h, f_u_star, f_v_star\n",
    "\n",
    "\n",
    "# 得到图片大小\n",
    "def figsize(scale, nplots=1.0):\n",
    "    fig_width_pt = 390.0    # Latex 中文本的宽度\n",
    "    inches_per_pt = 1.0 / 72.27  # 字号: 1 inch = 72 pt\n",
    "    golden_mean = (np.sqrt(5.0) - 1.0) / 2.0\n",
    "    fig_width = fig_width_pt * inches_per_pt * scale    # width in inches\n",
    "    fig_height = nplots * fig_width * golden_mean   # height in inches\n",
    "    fig_size = [fig_width, fig_height]\n",
    "    return fig_size\n",
    "\n",
    "# 创建新图片\n",
    "def newfig(width, nplots=1.0):\n",
    "    fig = plt.figure(figsize=figsize(width, nplots))\n",
    "    ax = fig.add_subplot(111)\n",
    "    return fig, ax\n",
    "\n",
    "\n",
    "if __name__ == '__main__':\n",
    "    # #################### 初始化变量 #######################\n",
    "    lb = np.array([-5., 0.])  # 下边界\n",
    "    ub = np.array([5., np.pi/2])  # 上边界\n",
    "    N0 = 50\n",
    "    Nb = 50\n",
    "    Nf = 20000\n",
    "    layers = [2, 100, 100, 100, 100, 2]\n",
    "    # ##################### 加载数据和处理 ########################\n",
    "    data = scipy.io.loadmat(r'C:\\Users\\Fan\\JupyterFile\\PINNs-maziarraissi\\main\\Data\\NLS.mat')  # scipy.io.loadmat 将 mat文件加载为 Python字典\n",
    "    t = data['tt'].flatten()[:, None]  # (201, 1)\n",
    "    x = data['x'].flatten()[:, None]  # (256, 1)\n",
    "    Exact = data['uu']  # (256, 201)\n",
    "    Exact_u = np.real(Exact).astype(np.float32)  # 实部\n",
    "    Exact_v = np.imag(Exact).astype(np.float32)  # 虚部\n",
    "    Exact_h = np.sqrt(Exact_u ** 2 + Exact_v ** 2)  # 模\n",
    "\n",
    "    X, T = np.meshgrid(x, t)  # X(201, 256) T(201, 256)\n",
    "\n",
    "    X_start = np.hstack((X.flatten()[:, None], T.flatten()[:, None]))  # (51456, 2)\n",
    "    u_start = Exact_u.flatten()[: None]  # (51456,)\n",
    "    v_start = Exact_v.flatten()[: None]  # (51456,)\n",
    "    h_start = Exact_h.flatten()[: None]  # (51456,)\n",
    "\n",
    "    idx_t = np.random.choice(t.shape[0], Nb, replace=False)\n",
    "    tb = t[idx_t, :]\n",
    "\n",
    "    idx_x = np.random.choice(x.shape[0], N0, replace=False)\n",
    "    x0 = x[idx_x, :]\n",
    "    u0 = Exact_u[idx_x, 0:1]\n",
    "    v0 = Exact_v[idx_t, 0:1]\n",
    "    # 拉丁超立方采样\n",
    "    X_f = lb + (ub - lb) * lhs(2, Nf)\n",
    "\n",
    "    # ###################### 模型实例化 ###########################\n",
    "    model = PINN(layers).to(device)\n",
    "    Insolver = PINNSolver(model, x0, u0, v0, tb, X_f, lb, ub)\n",
    "\n",
    "    # #################### 训练、验证网络 ##########################\n",
    "    folder_path = os.getcwd()   # 获取当前程序路径\n",
    "    file_name = 'PINNs_freshman_ip_model.pkl'    # 保存的训练模型名称\n",
    "    file_path = folder_path + file_name\n",
    "\n",
    "    if os.path.exists(file_path) and os.path.isfile(file_path):\n",
    "        # 已经训练完成 直接加载模型\n",
    "        model.load_state_dict(torch.load(file_path))\n",
    "    else:\n",
    "        # 未训练模型 进行模型训练\n",
    "        Insolver.train(5000, file_path)\n",
    "        # 保存模型\n",
    "        torch.save(model.state_dict(), file_path)\n",
    "\n",
    "    u_pred, v_pred, h_pred, f_u_pred, f_v_pred = Insolver.predict(X_start, u_start, v_start, h_start)\n",
    "\n",
    "    U_pred = griddata(X_start, u_pred.to('cpu').detach().numpy().flatten(), (X, T), method='cubic')  # (201, 256)\n",
    "    V_pred = griddata(X_start, v_pred.to('cpu').detach().numpy().flatten(), (X, T), method='cubic')  # (201, 256)\n",
    "    H_pred = griddata(X_start, h_pred.to('cpu').detach().numpy().flatten(), (X, T), method='cubic')  # (201, 256)\n",
    "\n",
    "    FU_pred = griddata(X_start, f_u_pred.to('cpu').detach().numpy().flatten(), (X, T), method='cubic')  # (201, 256)\n",
    "    FV_pred = griddata(X_start, f_v_pred.to('cpu').detach().numpy().flatten(), (X, T), method='cubic')  # (201, 256)\n",
    "\n",
    "    # ####################### 可视化展示 ###########################\n",
    "    X0 = np.concatenate((x0, 0 * x0), 1)  # (x0, 0)\n",
    "    X_lb = np.concatenate((0 * tb + lb[0], tb), 1)  # (lb[0], tb)\n",
    "    X_ub = np.concatenate((0 * tb + ub[0], tb), 1)  # (ub[0], tb)\n",
    "    X_u_train = np.vstack([X0, X_lb, X_ub])\n",
    "\n",
    "    fig, ax = newfig(1.0, 0.9)\n",
    "    ax.axis('off')\n",
    "    # 创建GridSpec对象 1行2列\n",
    "    gs0 = gridspec.GridSpec(1, 2)\n",
    "    gs0.update(top=1 - 0.06, bottom=1 - 1 / 3, left=0.15, right=0.85, wspace=0)\n",
    "    # 占用整个绘图空间\n",
    "    ax = plt.subplot(gs0[:, :])\n",
    "    # 绘制热力图\n",
    "    im = ax.imshow(H_pred.T, interpolation='nearest', cmap='YlGnBu',\n",
    "                   extent=[lb[1], ub[1], lb[0], ub[0]],\n",
    "                   origin='lower', aspect='auto')\n",
    "    # 创建一个可调整的分割轴\n",
    "    divider = make_axes_locatable(ax)\n",
    "    # 在图像右侧添加一个轴来放置颜色条\n",
    "    cax = divider.append_axes(\"right\", size=\"5%\", pad=0.05)\n",
    "    # 创建并添加颜色条\n",
    "    fig.colorbar(im, cax=cax)\n",
    "    # 边界点\n",
    "    ax.plot(X_u_train[:, 1], X_u_train[:, 0], 'kx', label='Data (%d points)' % (X_u_train.shape[0]), markersize=3,\n",
    "            clip_on=False)\n",
    "    # 对t时刻(3个)进行预测的线\n",
    "    line = np.linspace(x.min(), x.max(), 2)[:, None]\n",
    "    ax.plot(t[75] * np.ones((2, 1)), line, 'k--', linewidth=1)\n",
    "    ax.plot(t[100] * np.ones((2, 1)), line, 'k--', linewidth=1)\n",
    "    ax.plot(t[125] * np.ones((2, 1)), line, 'k--', linewidth=1)\n",
    "    # 设置坐标标签和图例\n",
    "    ax.set_xlabel('$t$')\n",
    "    ax.set_ylabel('$x$')\n",
    "    ax.legend(frameon=False, loc='upper right', fontsize=6)\n",
    "    ax.set_title('$|h(t,x)|$', fontsize=10)\n",
    "\n",
    "    # ############## t时刻(3个)预测展示 ##################\n",
    "    # 创建GridSpec对象 1行3列\n",
    "    gs1 = gridspec.GridSpec(1, 3)\n",
    "    gs1.update(top=1 - 1 / 3, bottom=0, left=0.1, right=0.9, wspace=0.5)\n",
    "\n",
    "    # t = 0.59时刻\n",
    "    # 占用第 1 个位置\n",
    "    ax = plt.subplot(gs1[0, 0])\n",
    "    # 精确值(蓝色)\n",
    "    ax.plot(x, Exact_h[:, 75], 'b-', linewidth=2, label='Exact')\n",
    "    # 预测值(红色)\n",
    "    ax.plot(x, H_pred[75, :], 'r--', linewidth=2, label='Prediction')\n",
    "    ax.set_xlabel('$x$')\n",
    "    ax.set_ylabel('$|h(t,x)|$')\n",
    "    ax.set_title('$t = %.2f$' % (t[75]), fontsize=10)\n",
    "    ax.axis('square')\n",
    "    ax.set_xlim([-5.1, 5.1])\n",
    "    ax.set_ylim([-0.1, 5.1])\n",
    "\n",
    "    # t = 0.79时刻\n",
    "    # 占用第 2 个位置\n",
    "    ax = plt.subplot(gs1[0, 1])\n",
    "    ax.plot(x, Exact_h[:, 100], 'b-', linewidth=2, label='Exact')\n",
    "    ax.plot(x, H_pred[100, :], 'r--', linewidth=2, label='Prediction')\n",
    "    ax.set_xlabel('$x$')\n",
    "    ax.set_ylabel('$|h(t,x)|$')\n",
    "    ax.axis('square')\n",
    "    ax.set_xlim([-5.1, 5.1])\n",
    "    ax.set_ylim([-0.1, 5.1])\n",
    "    ax.set_title('$t = %.2f$' % (t[100]), fontsize=10)\n",
    "    ax.legend(loc='upper center', bbox_to_anchor=(0.5, -0.8), ncol=5, frameon=False)\n",
    "\n",
    "    # t = 0.98时刻\n",
    "    # 占用第 3 个位置\n",
    "    ax = plt.subplot(gs1[0, 2])\n",
    "    ax.plot(x, Exact_h[:, 125], 'b-', linewidth=2, label='Exact')\n",
    "    ax.plot(x, H_pred[125, :], 'r--', linewidth=2, label='Prediction')\n",
    "    ax.set_xlabel('$x$')\n",
    "    ax.set_ylabel('$|h(t,x)|$')\n",
    "    ax.axis('square')\n",
    "    ax.set_xlim([-5.1, 5.1])\n",
    "    ax.set_ylim([-0.1, 5.1])\n",
    "    ax.set_title('$t = %.2f$' % (t[125]), fontsize=10)\n",
    "    plt.show()\n",
    "    # 保存图片\n",
    "    # plt.savefig(r'C:\\Users\\Fan\\JupyterFile\\NLS.jpg', dpi=1200)"
   ]
  },
  {
   "cell_type": "code",
   "execution_count": null,
   "metadata": {},
   "outputs": [
    {
     "name": "stderr",
     "output_type": "stream",
     "text": [
      "                                                                                                                       \r"
     ]
    },
    {
     "name": "stdout",
     "output_type": "stream",
     "text": [
      "Iteration=0000, loss=0.02931\n"
     ]
    },
    {
     "name": "stderr",
     "output_type": "stream",
     "text": [
      "                                                                                                                       \r"
     ]
    },
    {
     "name": "stdout",
     "output_type": "stream",
     "text": [
      "Iteration=0100, loss=0.05095\n"
     ]
    },
    {
     "name": "stderr",
     "output_type": "stream",
     "text": [
      "  0%|▎                                                                           | 101/25000 [01:21<5:36:22,  1.23it/s]"
     ]
    },
    {
     "name": "stdout",
     "output_type": "stream",
     "text": [
      "Epoch 00102: reducing learning rate of group 0 to 1.0000e-04.\n"
     ]
    },
    {
     "name": "stderr",
     "output_type": "stream",
     "text": [
      "                                                                                                                       \r"
     ]
    },
    {
     "name": "stdout",
     "output_type": "stream",
     "text": [
      "Iteration=0200, loss=0.04745\n"
     ]
    },
    {
     "name": "stderr",
     "output_type": "stream",
     "text": [
      "  1%|▌                                                                           | 202/25000 [02:47<5:44:54,  1.20it/s]"
     ]
    },
    {
     "name": "stdout",
     "output_type": "stream",
     "text": [
      "Epoch 00203: reducing learning rate of group 0 to 1.0000e-05.\n"
     ]
    },
    {
     "name": "stderr",
     "output_type": "stream",
     "text": [
      "                                                                                                                       \r"
     ]
    },
    {
     "name": "stdout",
     "output_type": "stream",
     "text": [
      "Iteration=0300, loss=0.04709\n"
     ]
    },
    {
     "name": "stderr",
     "output_type": "stream",
     "text": [
      "  1%|▉                                                                           | 303/25000 [04:13<5:59:47,  1.14it/s]"
     ]
    },
    {
     "name": "stdout",
     "output_type": "stream",
     "text": [
      "Epoch 00304: reducing learning rate of group 0 to 1.0000e-06.\n"
     ]
    },
    {
     "name": "stderr",
     "output_type": "stream",
     "text": [
      "                                                                                                                       \r"
     ]
    },
    {
     "name": "stdout",
     "output_type": "stream",
     "text": [
      "Iteration=0400, loss=0.04705\n"
     ]
    },
    {
     "name": "stderr",
     "output_type": "stream",
     "text": [
      "  2%|█▏                                                                          | 404/25000 [05:46<7:04:46,  1.04s/it]"
     ]
    },
    {
     "name": "stdout",
     "output_type": "stream",
     "text": [
      "Epoch 00405: reducing learning rate of group 0 to 1.0000e-07.\n"
     ]
    },
    {
     "name": "stderr",
     "output_type": "stream",
     "text": [
      "                                                                                                                       \r"
     ]
    },
    {
     "name": "stdout",
     "output_type": "stream",
     "text": [
      "Iteration=0500, loss=0.04704\n"
     ]
    },
    {
     "name": "stderr",
     "output_type": "stream",
     "text": [
      "  2%|█▌                                                                          | 505/25000 [07:44<7:43:16,  1.13s/it]"
     ]
    },
    {
     "name": "stdout",
     "output_type": "stream",
     "text": [
      "Epoch 00506: reducing learning rate of group 0 to 1.0000e-08.\n"
     ]
    },
    {
     "name": "stderr",
     "output_type": "stream",
     "text": [
      "                                                                                                                       \r"
     ]
    },
    {
     "name": "stdout",
     "output_type": "stream",
     "text": [
      "Iteration=0600, loss=0.04704\n"
     ]
    },
    {
     "name": "stderr",
     "output_type": "stream",
     "text": [
      "                                                                                                                       \r"
     ]
    },
    {
     "name": "stdout",
     "output_type": "stream",
     "text": [
      "Iteration=0700, loss=0.04704\n"
     ]
    },
    {
     "name": "stderr",
     "output_type": "stream",
     "text": [
      "                                                                                                                       \r"
     ]
    },
    {
     "name": "stdout",
     "output_type": "stream",
     "text": [
      "Iteration=0800, loss=0.04704\n"
     ]
    },
    {
     "name": "stderr",
     "output_type": "stream",
     "text": [
      "                                                                                                                       \r"
     ]
    },
    {
     "name": "stdout",
     "output_type": "stream",
     "text": [
      "Iteration=0900, loss=0.04704\n"
     ]
    },
    {
     "name": "stderr",
     "output_type": "stream",
     "text": [
      "                                                                                                                       \r"
     ]
    },
    {
     "name": "stdout",
     "output_type": "stream",
     "text": [
      "Iteration=1000, loss=0.04704\n"
     ]
    },
    {
     "name": "stderr",
     "output_type": "stream",
     "text": [
      "                                                                                                                       \r"
     ]
    },
    {
     "name": "stdout",
     "output_type": "stream",
     "text": [
      "Iteration=1100, loss=0.04704\n"
     ]
    },
    {
     "name": "stderr",
     "output_type": "stream",
     "text": [
      "                                                                                                                       \r"
     ]
    },
    {
     "name": "stdout",
     "output_type": "stream",
     "text": [
      "Iteration=1200, loss=0.04704\n"
     ]
    },
    {
     "name": "stderr",
     "output_type": "stream",
     "text": [
      "                                                                                                                       \r"
     ]
    },
    {
     "name": "stdout",
     "output_type": "stream",
     "text": [
      "Iteration=1300, loss=0.04704\n"
     ]
    },
    {
     "name": "stderr",
     "output_type": "stream",
     "text": [
      "                                                                                                                       \r"
     ]
    },
    {
     "name": "stdout",
     "output_type": "stream",
     "text": [
      "Iteration=1400, loss=0.04704\n"
     ]
    },
    {
     "name": "stderr",
     "output_type": "stream",
     "text": [
      "                                                                                                                       \r"
     ]
    },
    {
     "name": "stdout",
     "output_type": "stream",
     "text": [
      "Iteration=1500, loss=0.04704\n"
     ]
    },
    {
     "name": "stderr",
     "output_type": "stream",
     "text": [
      "                                                                                                                       \r"
     ]
    },
    {
     "name": "stdout",
     "output_type": "stream",
     "text": [
      "Iteration=1600, loss=0.04704\n"
     ]
    },
    {
     "name": "stderr",
     "output_type": "stream",
     "text": [
      "                                                                                                                       \r"
     ]
    },
    {
     "name": "stdout",
     "output_type": "stream",
     "text": [
      "Iteration=1700, loss=0.04704\n"
     ]
    },
    {
     "name": "stderr",
     "output_type": "stream",
     "text": [
      "                                                                                                                       \r"
     ]
    },
    {
     "name": "stdout",
     "output_type": "stream",
     "text": [
      "Iteration=1800, loss=0.04704\n"
     ]
    },
    {
     "name": "stderr",
     "output_type": "stream",
     "text": [
      "                                                                                                                       \r"
     ]
    },
    {
     "name": "stdout",
     "output_type": "stream",
     "text": [
      "Iteration=1900, loss=0.04704\n"
     ]
    },
    {
     "name": "stderr",
     "output_type": "stream",
     "text": [
      "                                                                                                                       \r"
     ]
    },
    {
     "name": "stdout",
     "output_type": "stream",
     "text": [
      "Iteration=2000, loss=0.04704\n"
     ]
    },
    {
     "name": "stderr",
     "output_type": "stream",
     "text": [
      "                                                                                                                       \r"
     ]
    },
    {
     "name": "stdout",
     "output_type": "stream",
     "text": [
      "Iteration=2100, loss=0.04704\n"
     ]
    },
    {
     "name": "stderr",
     "output_type": "stream",
     "text": [
      "                                                                                                                       \r"
     ]
    },
    {
     "name": "stdout",
     "output_type": "stream",
     "text": [
      "Iteration=2200, loss=0.04704\n"
     ]
    },
    {
     "name": "stderr",
     "output_type": "stream",
     "text": [
      "                                                                                                                       \r"
     ]
    },
    {
     "name": "stdout",
     "output_type": "stream",
     "text": [
      "Iteration=2300, loss=0.04704\n"
     ]
    },
    {
     "name": "stderr",
     "output_type": "stream",
     "text": [
      "                                                                                                                       \r"
     ]
    },
    {
     "name": "stdout",
     "output_type": "stream",
     "text": [
      "Iteration=2400, loss=0.04704\n"
     ]
    },
    {
     "name": "stderr",
     "output_type": "stream",
     "text": [
      "                                                                                                                       \r"
     ]
    },
    {
     "name": "stdout",
     "output_type": "stream",
     "text": [
      "Iteration=2500, loss=0.04704\n"
     ]
    },
    {
     "name": "stderr",
     "output_type": "stream",
     "text": [
      "                                                                                                                       \r"
     ]
    },
    {
     "name": "stdout",
     "output_type": "stream",
     "text": [
      "Iteration=2600, loss=0.04704\n"
     ]
    },
    {
     "name": "stderr",
     "output_type": "stream",
     "text": [
      "                                                                                                                       \r"
     ]
    },
    {
     "name": "stdout",
     "output_type": "stream",
     "text": [
      "Iteration=2700, loss=0.04704\n"
     ]
    },
    {
     "name": "stderr",
     "output_type": "stream",
     "text": [
      "                                                                                                                       \r"
     ]
    },
    {
     "name": "stdout",
     "output_type": "stream",
     "text": [
      "Iteration=2800, loss=0.04704\n"
     ]
    },
    {
     "name": "stderr",
     "output_type": "stream",
     "text": [
      "                                                                                                                       \r"
     ]
    },
    {
     "name": "stdout",
     "output_type": "stream",
     "text": [
      "Iteration=2900, loss=0.04704\n"
     ]
    },
    {
     "name": "stderr",
     "output_type": "stream",
     "text": [
      "                                                                                                                       \r"
     ]
    },
    {
     "name": "stdout",
     "output_type": "stream",
     "text": [
      "Iteration=3000, loss=0.04704\n"
     ]
    },
    {
     "name": "stderr",
     "output_type": "stream",
     "text": [
      "                                                                                                                       \r"
     ]
    },
    {
     "name": "stdout",
     "output_type": "stream",
     "text": [
      "Iteration=3100, loss=0.04704\n"
     ]
    },
    {
     "name": "stderr",
     "output_type": "stream",
     "text": [
      "                                                                                                                       \r"
     ]
    },
    {
     "name": "stdout",
     "output_type": "stream",
     "text": [
      "Iteration=3200, loss=0.04704\n"
     ]
    },
    {
     "name": "stderr",
     "output_type": "stream",
     "text": [
      "                                                                                                                       \r"
     ]
    },
    {
     "name": "stdout",
     "output_type": "stream",
     "text": [
      "Iteration=3300, loss=0.04703\n"
     ]
    },
    {
     "name": "stderr",
     "output_type": "stream",
     "text": [
      "                                                                                                                       \r"
     ]
    },
    {
     "name": "stdout",
     "output_type": "stream",
     "text": [
      "Iteration=3400, loss=0.04703\n"
     ]
    },
    {
     "name": "stderr",
     "output_type": "stream",
     "text": [
      "                                                                                                                       \r"
     ]
    },
    {
     "name": "stdout",
     "output_type": "stream",
     "text": [
      "Iteration=3500, loss=0.04703\n"
     ]
    },
    {
     "name": "stderr",
     "output_type": "stream",
     "text": [
      "                                                                                                                       \r"
     ]
    },
    {
     "name": "stdout",
     "output_type": "stream",
     "text": [
      "Iteration=3600, loss=0.04703\n"
     ]
    },
    {
     "name": "stderr",
     "output_type": "stream",
     "text": [
      "                                                                                                                       \r"
     ]
    },
    {
     "name": "stdout",
     "output_type": "stream",
     "text": [
      "Iteration=3700, loss=0.04703\n"
     ]
    },
    {
     "name": "stderr",
     "output_type": "stream",
     "text": [
      "                                                                                                                       \r"
     ]
    },
    {
     "name": "stdout",
     "output_type": "stream",
     "text": [
      "Iteration=3800, loss=0.04703\n"
     ]
    },
    {
     "name": "stderr",
     "output_type": "stream",
     "text": [
      "                                                                                                                       \r"
     ]
    },
    {
     "name": "stdout",
     "output_type": "stream",
     "text": [
      "Iteration=3900, loss=0.04703\n"
     ]
    },
    {
     "name": "stderr",
     "output_type": "stream",
     "text": [
      "                                                                                                                       \r"
     ]
    },
    {
     "name": "stdout",
     "output_type": "stream",
     "text": [
      "Iteration=4000, loss=0.04703\n"
     ]
    },
    {
     "name": "stderr",
     "output_type": "stream",
     "text": [
      "                                                                                                                       \r"
     ]
    },
    {
     "name": "stdout",
     "output_type": "stream",
     "text": [
      "Iteration=4100, loss=0.04702\n"
     ]
    },
    {
     "name": "stderr",
     "output_type": "stream",
     "text": [
      "                                                                                                                       \r"
     ]
    },
    {
     "name": "stdout",
     "output_type": "stream",
     "text": [
      "Iteration=4200, loss=0.04702\n"
     ]
    },
    {
     "name": "stderr",
     "output_type": "stream",
     "text": [
      "                                                                                                                       \r"
     ]
    },
    {
     "name": "stdout",
     "output_type": "stream",
     "text": [
      "Iteration=4300, loss=0.04702\n"
     ]
    },
    {
     "name": "stderr",
     "output_type": "stream",
     "text": [
      "                                                                                                                       \r"
     ]
    },
    {
     "name": "stdout",
     "output_type": "stream",
     "text": [
      "Iteration=4400, loss=0.04702\n"
     ]
    },
    {
     "name": "stderr",
     "output_type": "stream",
     "text": [
      "                                                                                                                       \r"
     ]
    },
    {
     "name": "stdout",
     "output_type": "stream",
     "text": [
      "Iteration=4500, loss=0.04702\n"
     ]
    },
    {
     "name": "stderr",
     "output_type": "stream",
     "text": [
      "                                                                                                                       \r"
     ]
    },
    {
     "name": "stdout",
     "output_type": "stream",
     "text": [
      "Iteration=4600, loss=0.04702\n"
     ]
    },
    {
     "name": "stderr",
     "output_type": "stream",
     "text": [
      "                                                                                                                       \r"
     ]
    },
    {
     "name": "stdout",
     "output_type": "stream",
     "text": [
      "Iteration=4700, loss=0.04701\n"
     ]
    },
    {
     "name": "stderr",
     "output_type": "stream",
     "text": [
      "                                                                                                                       \r"
     ]
    },
    {
     "name": "stdout",
     "output_type": "stream",
     "text": [
      "Iteration=4800, loss=0.04701\n"
     ]
    },
    {
     "name": "stderr",
     "output_type": "stream",
     "text": [
      "                                                                                                                       \r"
     ]
    },
    {
     "name": "stdout",
     "output_type": "stream",
     "text": [
      "Iteration=4900, loss=0.04701\n"
     ]
    },
    {
     "name": "stderr",
     "output_type": "stream",
     "text": [
      "                                                                                                                       \r"
     ]
    },
    {
     "name": "stdout",
     "output_type": "stream",
     "text": [
      "Iteration=5000, loss=0.04701\n"
     ]
    },
    {
     "name": "stderr",
     "output_type": "stream",
     "text": [
      "                                                                                                                       \r"
     ]
    },
    {
     "name": "stdout",
     "output_type": "stream",
     "text": [
      "Iteration=5100, loss=0.04700\n"
     ]
    },
    {
     "name": "stderr",
     "output_type": "stream",
     "text": [
      "                                                                                                                       \r"
     ]
    },
    {
     "name": "stdout",
     "output_type": "stream",
     "text": [
      "Iteration=5200, loss=0.04700\n"
     ]
    },
    {
     "name": "stderr",
     "output_type": "stream",
     "text": [
      "                                                                                                                       \r"
     ]
    },
    {
     "name": "stdout",
     "output_type": "stream",
     "text": [
      "Iteration=5300, loss=0.04700\n"
     ]
    },
    {
     "name": "stderr",
     "output_type": "stream",
     "text": [
      "                                                                                                                       \r"
     ]
    },
    {
     "name": "stdout",
     "output_type": "stream",
     "text": [
      "Iteration=5400, loss=0.04699\n"
     ]
    },
    {
     "name": "stderr",
     "output_type": "stream",
     "text": [
      "                                                                                                                       \r"
     ]
    },
    {
     "name": "stdout",
     "output_type": "stream",
     "text": [
      "Iteration=5500, loss=0.04699\n"
     ]
    },
    {
     "name": "stderr",
     "output_type": "stream",
     "text": [
      "                                                                                                                       \r"
     ]
    },
    {
     "name": "stdout",
     "output_type": "stream",
     "text": [
      "Iteration=5600, loss=0.04698\n"
     ]
    },
    {
     "name": "stderr",
     "output_type": "stream",
     "text": [
      "                                                                                                                       \r"
     ]
    },
    {
     "name": "stdout",
     "output_type": "stream",
     "text": [
      "Iteration=5700, loss=0.04698\n"
     ]
    },
    {
     "name": "stderr",
     "output_type": "stream",
     "text": [
      "                                                                                                                       \r"
     ]
    },
    {
     "name": "stdout",
     "output_type": "stream",
     "text": [
      "Iteration=5800, loss=0.04698\n"
     ]
    },
    {
     "name": "stderr",
     "output_type": "stream",
     "text": [
      "                                                                                                                       \r"
     ]
    },
    {
     "name": "stdout",
     "output_type": "stream",
     "text": [
      "Iteration=5900, loss=0.04697\n"
     ]
    },
    {
     "name": "stderr",
     "output_type": "stream",
     "text": [
      "                                                                                                                       \r"
     ]
    },
    {
     "name": "stdout",
     "output_type": "stream",
     "text": [
      "Iteration=6000, loss=0.04697\n"
     ]
    },
    {
     "name": "stderr",
     "output_type": "stream",
     "text": [
      "                                                                                                                       \r"
     ]
    },
    {
     "name": "stdout",
     "output_type": "stream",
     "text": [
      "Iteration=6100, loss=0.04696\n"
     ]
    },
    {
     "name": "stderr",
     "output_type": "stream",
     "text": [
      "                                                                                                                       \r"
     ]
    },
    {
     "name": "stdout",
     "output_type": "stream",
     "text": [
      "Iteration=6200, loss=0.04696\n"
     ]
    },
    {
     "name": "stderr",
     "output_type": "stream",
     "text": [
      "                                                                                                                       \r"
     ]
    },
    {
     "name": "stdout",
     "output_type": "stream",
     "text": [
      "Iteration=6300, loss=0.04695\n"
     ]
    },
    {
     "name": "stderr",
     "output_type": "stream",
     "text": [
      "                                                                                                                       \r"
     ]
    },
    {
     "name": "stdout",
     "output_type": "stream",
     "text": [
      "Iteration=6400, loss=0.04695\n"
     ]
    },
    {
     "name": "stderr",
     "output_type": "stream",
     "text": [
      "                                                                                                                       \r"
     ]
    },
    {
     "name": "stdout",
     "output_type": "stream",
     "text": [
      "Iteration=6500, loss=0.04694\n"
     ]
    },
    {
     "name": "stderr",
     "output_type": "stream",
     "text": [
      "                                                                                                                       \r"
     ]
    },
    {
     "name": "stdout",
     "output_type": "stream",
     "text": [
      "Iteration=6600, loss=0.04693\n"
     ]
    },
    {
     "name": "stderr",
     "output_type": "stream",
     "text": [
      "                                                                                                                       \r"
     ]
    },
    {
     "name": "stdout",
     "output_type": "stream",
     "text": [
      "Iteration=6700, loss=0.04693\n"
     ]
    },
    {
     "name": "stderr",
     "output_type": "stream",
     "text": [
      "                                                                                                                       \r"
     ]
    },
    {
     "name": "stdout",
     "output_type": "stream",
     "text": [
      "Iteration=6800, loss=0.04692\n"
     ]
    },
    {
     "name": "stderr",
     "output_type": "stream",
     "text": [
      "                                                                                                                       \r"
     ]
    },
    {
     "name": "stdout",
     "output_type": "stream",
     "text": [
      "Iteration=6900, loss=0.04691\n"
     ]
    },
    {
     "name": "stderr",
     "output_type": "stream",
     "text": [
      "                                                                                                                       \r"
     ]
    },
    {
     "name": "stdout",
     "output_type": "stream",
     "text": [
      "Iteration=7000, loss=0.04691\n"
     ]
    },
    {
     "name": "stderr",
     "output_type": "stream",
     "text": [
      "                                                                                                                       \r"
     ]
    },
    {
     "name": "stdout",
     "output_type": "stream",
     "text": [
      "Iteration=7100, loss=0.04690\n"
     ]
    },
    {
     "name": "stderr",
     "output_type": "stream",
     "text": [
      "                                                                                                                       \r"
     ]
    },
    {
     "name": "stdout",
     "output_type": "stream",
     "text": [
      "Iteration=7200, loss=0.04689\n"
     ]
    },
    {
     "name": "stderr",
     "output_type": "stream",
     "text": [
      "                                                                                                                       \r"
     ]
    },
    {
     "name": "stdout",
     "output_type": "stream",
     "text": [
      "Iteration=7300, loss=0.04688\n"
     ]
    },
    {
     "name": "stderr",
     "output_type": "stream",
     "text": [
      "                                                                                                                       \r"
     ]
    },
    {
     "name": "stdout",
     "output_type": "stream",
     "text": [
      "Iteration=7400, loss=0.04687\n"
     ]
    },
    {
     "name": "stderr",
     "output_type": "stream",
     "text": [
      " 30%|█████████████████████▊                                                   | 7473/25000 [2:00:47<5:46:43,  1.19s/it]"
     ]
    }
   ],
   "source": [
    "Insolver.train(5000)\n",
    "# 保存模型\n",
    "torch.save(model.state_dict(), file_path)"
   ]
  },
  {
   "cell_type": "code",
   "execution_count": null,
   "metadata": {},
   "outputs": [],
   "source": []
  },
  {
   "cell_type": "code",
   "execution_count": null,
   "metadata": {},
   "outputs": [],
   "source": []
  }
 ],
 "metadata": {
  "kernelspec": {
   "display_name": "Python 3",
   "language": "python",
   "name": "python3"
  },
  "language_info": {
   "codemirror_mode": {
    "name": "ipython",
    "version": 3
   },
   "file_extension": ".py",
   "mimetype": "text/x-python",
   "name": "python",
   "nbconvert_exporter": "python",
   "pygments_lexer": "ipython3",
   "version": "3.7.0"
  }
 },
 "nbformat": 4,
 "nbformat_minor": 2
}
