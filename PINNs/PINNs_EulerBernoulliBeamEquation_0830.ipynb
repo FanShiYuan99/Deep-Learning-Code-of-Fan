{
 "cells": [
  {
   "cell_type": "code",
   "execution_count": 1,
   "metadata": {},
   "outputs": [],
   "source": [
    "import numpy as np\n",
    "import pandas as pd\n",
    "import torch\n",
    "import torch.nn as nn\n",
    "from random import uniform\n",
    "import matplotlib.pyplot as plt\n",
    "from mpl_toolkits.axes_grid1 import make_axes_locatable\n",
    "from pyDOE import lhs\n",
    "%matplotlib inline\n",
    "import os"
   ]
  },
  {
   "cell_type": "code",
   "execution_count": 2,
   "metadata": {},
   "outputs": [],
   "source": [
    "class MLP(nn.Module):\n",
    "    def __init__(self):\n",
    "        super(MLP, self).__init__()\n",
    "        hidden_channle = 20\n",
    "        self.net = nn.Sequential(\n",
    "            nn.Linear(1, hidden_channle), nn.Tanh(),\n",
    "            nn.Linear(hidden_channle, hidden_channle), nn.Tanh(),\n",
    "            nn.Linear(hidden_channle, hidden_channle), nn.Tanh(),\n",
    "            nn.Linear(hidden_channle, hidden_channle), nn.Tanh(),\n",
    "            nn.Linear(hidden_channle, hidden_channle), nn.Tanh(),\n",
    "            nn.Linear(hidden_channle, 1)\n",
    "        )\n",
    "    def forward(self,x):\n",
    "        x=self.net(x)\n",
    "        return x"
   ]
  },
  {
   "cell_type": "markdown",
   "metadata": {},
   "source": [
    "# 悬臂梁"
   ]
  },
  {
   "cell_type": "code",
   "execution_count": 3,
   "metadata": {},
   "outputs": [],
   "source": [
    "def u_function(x):\n",
    "    u = model(x)\n",
    "    return u\n",
    "\n",
    "def f_function(x):\n",
    "    u = u_function(x)\n",
    "    u_x = torch.autograd.grad(u, x, torch.ones_like(u), retain_graph=True, create_graph=True)[0]\n",
    "    u_xx = torch.autograd.grad(u_x, x, torch.ones_like(u_x), retain_graph=True, create_graph=True)[0]\n",
    "    #u_xxx = torch.autograd.grad(u_xx, x, torch.ones_like(u_xx), retain_graph=True, create_graph=True)[0]\n",
    "    #u_xxxx = torch.autograd.grad(u_xxx, x, torch.ones_like(u_xxx), retain_graph=True, create_graph=True)[0]\n",
    "    \n",
    "    f = EI * u_xx + F * (x - L)\n",
    "    return u, f\n",
    "    \n",
    "def Loss(x_f):\n",
    "    u_pre, f_pre = f_function(x_f)\n",
    "    # loss\n",
    "\n",
    "    u_x = torch.autograd.grad(u_pre, x_f, torch.ones_like(u_pre), retain_graph=True, create_graph=True)[0]\n",
    "    u_xx = torch.autograd.grad(u_x, x_f, torch.ones_like(u_x), retain_graph=True, create_graph=True)[0]\n",
    "    \n",
    "    f_loss = torch.mean(torch.square(f_pre))\n",
    "    u_loss = torch.square(u_pre[0]) + torch.square(u_x[0]) + torch.square(u_xx[-1])\n",
    "    \n",
    "    ls = u_loss + f_loss\n",
    "    ls.backward()\n",
    "    return ls,f_loss,u_loss"
   ]
  },
  {
   "cell_type": "code",
   "execution_count": 4,
   "metadata": {},
   "outputs": [
    {
     "name": "stdout",
     "output_type": "stream",
     "text": [
      "[Epoch 1/2000] [loss: 5.4884352684021]\n",
      "[Epoch 101/2000] [loss: 0.007541600614786148]\n",
      "[Epoch 201/2000] [loss: 0.0003376159002073109]\n",
      "[Epoch 301/2000] [loss: 0.013444103300571442]\n",
      "[Epoch 401/2000] [loss: 0.00024166035291273147]\n",
      "[Epoch 501/2000] [loss: 0.00018127092334907502]\n",
      "[Epoch 601/2000] [loss: 0.0001549253356643021]\n",
      "[Epoch 701/2000] [loss: 0.00013494284939952195]\n",
      "[Epoch 801/2000] [loss: 0.00011920603719772771]\n",
      "[Epoch 901/2000] [loss: 0.00011231330427108333]\n",
      "[Epoch 1001/2000] [loss: 0.00010571570601314306]\n",
      "[Epoch 1101/2000] [loss: 9.937831782735884e-05]\n",
      "[Epoch 1201/2000] [loss: 9.32750481297262e-05]\n",
      "[Epoch 1301/2000] [loss: 9.026152838487178e-05]\n",
      "[Epoch 1401/2000] [loss: 8.720701589481905e-05]\n",
      "[Epoch 1501/2000] [loss: 8.412200986640528e-05]\n",
      "[Epoch 1601/2000] [loss: 8.101829735096544e-05]\n",
      "[Epoch 1701/2000] [loss: 7.94410370872356e-05]\n",
      "[Epoch 1801/2000] [loss: 7.781627937220037e-05]\n",
      "[Epoch 1901/2000] [loss: 7.61478440836072e-05]\n"
     ]
    },
    {
     "data": {
      "image/png": "[encoded data removed]",
      "text/plain": [
       "<Figure size 648x648 with 3 Axes>"
      ]
     },
     "metadata": {
      "needs_background": "light"
     },
     "output_type": "display_data"
    }
   ],
   "source": [
    "N_f = 10000\n",
    "#E = 200  # 杨氏模量 GPa\n",
    "#I = 0.2 * 0.5 ** 3 / 12  # 截面惯性矩  矩形截面\n",
    "EI= 1\n",
    "L = 2  # length\n",
    "F = 2   # point load\n",
    "\n",
    "x_f_train = np.random.rand(N_f,1) * L\n",
    "x_f_train = np.vstack((np.array([0]),x_f_train,np.array([L])))\n",
    "x_f = torch.tensor(x_f_train.reshape(-1, 1), dtype=torch.float32, requires_grad=True)\n",
    "\n",
    "# 模型训练\n",
    "def train(epochs, model):\n",
    "    optimizer = torch.optim.Adam(model.parameters(), lr=0.01)\n",
    "    scheduler = torch.optim.lr_scheduler.StepLR(optimizer, step_size=400, gamma=0.5) # 动态递减学习率\n",
    "    Losses = []\n",
    "    f_Losses = []\n",
    "    u_Losses  =[]\n",
    "    for epoch in range(epochs):\n",
    "        optimizer.zero_grad()\n",
    "        loss,floss,uloss = Loss(x_f)\n",
    "        Losses.append(loss.item())\n",
    "        f_Losses.append(floss.item())\n",
    "        u_Losses.append(uloss.item())\n",
    "        if epoch % 100 ==0:\n",
    "            print(f\"[Epoch {epoch+1}/{epochs}] [loss: {loss.item()}]\")\n",
    "        optimizer.step()\n",
    "        scheduler.step()\n",
    "    fig = plt.figure(figsize=(9,9))\n",
    "    ax = fig.add_subplot(311)\n",
    "    plt.plot(Losses,label='Loss')\n",
    "    plt.legend()\n",
    "    ax = fig.add_subplot(312)\n",
    "    plt.plot(f_Losses,label='F Loss')\n",
    "    plt.legend()\n",
    "    ax = fig.add_subplot(313)\n",
    "    plt.plot(u_Losses,label='U Loss')\n",
    "    plt.legend()\n",
    "    plt.show()\n",
    "\n",
    "def Exact_u(x):\n",
    "    u = F / (6 * EI) * (3 * L * x * x - x ** 3)\n",
    "    return u\n",
    "\n",
    "model = MLP()\n",
    "train(2000, model)"
   ]
  },
  {
   "cell_type": "code",
   "execution_count": 5,
   "metadata": {},
   "outputs": [
    {
     "data": {
      "image/png": "[encoded data removed]",
      "text/plain": [
       "<Figure size 648x324 with 1 Axes>"
      ]
     },
     "metadata": {
      "needs_background": "light"
     },
     "output_type": "display_data"
    }
   ],
   "source": [
    "x = torch.linspace(0, L, 200, dtype=torch.float32, requires_grad=True).reshape(-1,1)\n",
    "ucol = u_function(x)\n",
    "xnp = x.detach().numpy()\n",
    "uex = Exact_u(xnp)\n",
    "unp = ucol.detach().numpy()\n",
    "\n",
    "fig = plt.figure(figsize=(9, 4.5))\n",
    "ax = fig.add_subplot(111)\n",
    "plt.plot(xnp,unp,label = 'Pre u')\n",
    "plt.plot(xnp,uex,label = 'Exact u')\n",
    "plt.legend()\n",
    "plt.show()"
   ]
  },
  {
   "cell_type": "code",
   "execution_count": 5,
   "metadata": {},
   "outputs": [
    {
     "data": {
      "image/png": "[encoded data removed]",
      "text/plain": [
       "<Figure size 648x324 with 1 Axes>"
      ]
     },
     "metadata": {
      "needs_background": "light"
     },
     "output_type": "display_data"
    }
   ],
   "source": [
    "x = torch.linspace(0, L, 200, dtype=torch.float32, requires_grad=True).reshape(-1,1)\n",
    "ucol = u_function(x)\n",
    "xnp = x.detach().numpy()\n",
    "uex = Exact_u(xnp)\n",
    "unp = ucol.detach().numpy()\n",
    "\n",
    "fig = plt.figure(figsize=(9, 4.5))\n",
    "ax = fig.add_subplot(111)\n",
    "plt.plot(xnp,unp,label = 'Pre u')\n",
    "plt.plot(xnp,uex,label = 'Exact u')\n",
    "plt.legend()\n",
    "plt.show()"
   ]
  },
  {
   "cell_type": "markdown",
   "metadata": {},
   "source": [
    "# 简支梁"
   ]
  },
  {
   "cell_type": "code",
   "execution_count": 3,
   "metadata": {},
   "outputs": [],
   "source": [
    "def u_function(x):\n",
    "    u = model(x)\n",
    "    return u\n",
    "\n",
    "def f_function(x):\n",
    "    u = u_function(x)\n",
    "    u_x = torch.autograd.grad(u, x, torch.ones_like(u), retain_graph=True, create_graph=True)[0]\n",
    "    u_xx = torch.autograd.grad(u_x, x, torch.ones_like(u_x), retain_graph=True, create_graph=True)[0]\n",
    "    u_xxx = torch.autograd.grad(u_xx, x, torch.ones_like(u_xx), retain_graph=True, create_graph=True)[0]\n",
    "    u_xxxx = torch.autograd.grad(u_xxx, x, torch.ones_like(u_xxx), retain_graph=True, create_graph=True)[0]\n",
    "    \n",
    "    f = EI * u_xxxx - q\n",
    "    return u, f, u_x, u_xx, u_xxx, u_xxxx\n",
    "    \n",
    "def Loss(x_f):\n",
    "    u_pre, f_pre, u_x, u_xx, _, _ = f_function(x_f)\n",
    "    # loss\n",
    "    \n",
    "    f_loss = torch.mean(torch.square(f_pre))\n",
    "    u_loss = torch.square(u_pre[0]) + torch.square(u_pre[-1]) + torch.square(EI * u_xx[0]) + torch.square(EI * u_xx[-1])\n",
    "    \n",
    "    ls = u_loss + f_loss\n",
    "    ls.backward()\n",
    "    return ls,f_loss,u_loss"
   ]
  },
  {
   "cell_type": "code",
   "execution_count": null,
   "metadata": {},
   "outputs": [
    {
     "name": "stdout",
     "output_type": "stream",
     "text": [
      "[Epoch 1/2000] [loss: 10000.259765625]\n",
      "[Epoch 101/2000] [loss: 10000.0]\n"
     ]
    }
   ],
   "source": [
    "N_f = 10000\n",
    "EI= 1\n",
    "L = 10  # length   m\n",
    "q = 100   # distributed load   N/m\n",
    "\n",
    "x_f_train = np.random.rand(N_f,1) * L\n",
    "x_f_train = np.vstack((np.array([0]),x_f_train,np.array([L])))\n",
    "x_f = torch.tensor(x_f_train.reshape(-1, 1), dtype=torch.float32, requires_grad=True)\n",
    "\n",
    "# 模型训练\n",
    "def train(epochs, model):\n",
    "    optimizer = torch.optim.Adam(model.parameters(), lr=0.01)\n",
    "    Losses = []\n",
    "    f_Losses = []\n",
    "    u_Losses  =[]\n",
    "    for epoch in range(epochs):\n",
    "        optimizer.zero_grad()\n",
    "        loss,floss,uloss = Loss(x_f)\n",
    "        Losses.append(loss.item())\n",
    "        f_Losses.append(floss.item())\n",
    "        u_Losses.append(uloss.item())\n",
    "        if epoch % 100 ==0:\n",
    "            print(f\"[Epoch {epoch+1}/{epochs}] [loss: {loss.item()}]\")\n",
    "        optimizer.step()\n",
    "    fig = plt.figure(figsize=(9,9))\n",
    "    ax = fig.add_subplot(311)\n",
    "    plt.plot(Losses,label='Loss')\n",
    "    plt.legend()\n",
    "    ax = fig.add_subplot(312)\n",
    "    plt.plot(f_Losses,label='F Loss')\n",
    "    plt.legend()\n",
    "    ax = fig.add_subplot(313)\n",
    "    plt.plot(u_Losses,label='U Loss')\n",
    "    plt.legend()\n",
    "    plt.show()\n",
    "\n",
    "def Exact_u(x):\n",
    "    u = 25 * x / (3 * EI) * (-x ** 3 / 2 + 10 * x ** 2 - 500)\n",
    "    return u\n",
    "\n",
    "model = MLP()\n",
    "train(2000, model)"
   ]
  },
  {
   "cell_type": "code",
   "execution_count": null,
   "metadata": {},
   "outputs": [],
   "source": [
    "x = torch.linspace(0, L, 200, dtype=torch.float32, requires_grad=True).reshape(-1,1)\n",
    "ucol = u_function(x)\n",
    "xnp = x.detach().numpy()\n",
    "uex = Exact_u(xnp)\n",
    "unp = ucol.detach().numpy()\n",
    "\n",
    "fig = plt.figure(figsize=(9, 4.5))\n",
    "ax = fig.add_subplot(111)\n",
    "#plt.plot(xnp,unp,label = 'Pre u')\n",
    "plt.plot(xnp,uex/1000,label = 'Exact u')\n",
    "plt.legend()\n",
    "plt.show()"
   ]
  },
  {
   "cell_type": "code",
   "execution_count": null,
   "metadata": {},
   "outputs": [],
   "source": []
  },
  {
   "cell_type": "code",
   "execution_count": null,
   "metadata": {},
   "outputs": [],
   "source": []
  }
 ],
 "metadata": {
  "kernelspec": {
   "display_name": "Python 3",
   "language": "python",
   "name": "python3"
  },
  "language_info": {
   "codemirror_mode": {
    "name": "ipython",
    "version": 3
   },
   "file_extension": ".py",
   "mimetype": "text/x-python",
   "name": "python",
   "nbconvert_exporter": "python",
   "pygments_lexer": "ipython3",
   "version": "3.7.0"
  }
 },
 "nbformat": 4,
 "nbformat_minor": 2
}
